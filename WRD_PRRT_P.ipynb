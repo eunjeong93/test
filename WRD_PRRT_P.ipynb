{
 "cells": [
  {
   "cell_type": "code",
   "execution_count": 2,
   "metadata": {},
   "outputs": [],
   "source": [
    "import pandas as pd\n",
    "from pyhive import presto\n",
    "from tqdm import tqdm\n",
    "import re\n",
    "import time\n",
    "import os\n",
    "import boto3\n",
    "import os\n",
    "import pandas as pd\n",
    "import datetime\n",
    "import time\n",
    "import gzip\n",
    "import s3fs\n",
    "import sys\n",
    "import datetime\n",
    "from io import BytesIO, TextIOWrapper\n",
    "from s3fs import S3FileSystem\n",
    "from boto3 import client\n",
    "from pyhive import presto\n",
    "from pyhive import hive\n",
    "import math\n",
    "from datetime import datetime\n",
    "from scipy.stats import chi2_contingency\n",
    "import matplotlib.pyplot as plt\n",
    "import pickle\n",
    "from sklearn.model_selection import KFold\n",
    "from sklearn.model_selection import train_test_split\n",
    "from sklearn.linear_model import LogisticRegression\n",
    "from sklearn.tree import DecisionTreeClassifier\n",
    "from sklearn.metrics import *\n",
    "import sklearn.svm as svm\n",
    "import numpy as np\n",
    "import tensorflow as tf\n",
    "from tensorflow.keras.layers import Dense, Conv1D, LSTM\n",
    "from tensorflow.keras.models import Sequential\n",
    "from tensorflow.keras.callbacks import ModelCheckpoint\n",
    "from haversine import haversine"
   ]
  },
  {
   "cell_type": "code",
   "execution_count": 6,
   "metadata": {},
   "outputs": [
    {
     "name": "stderr",
     "output_type": "stream",
     "text": [
      "100%|██████████| 12/12 [14:48<00:00, 74.07s/it] \n"
     ]
    }
   ],
   "source": [
    "agg1 = pd.DataFrame()\n",
    "agg2 = pd.DataFrame()\n",
    "month = ['01', '02', '03', '04', '05', '06', '07', '08', '09', '10', '11', '12']\n",
    "for m in tqdm(month):\n",
    "    with open(f\"ord_dat_20{m}.pkl\",\"rb\") as fr:\n",
    "        rider = pickle.load(fr)\n",
    "    tmp1 = rider[['ord_no', 'cth_wk_code', 'ymd']].drop_duplicates().groupby(['cth_wk_code', 'ymd']).count().reset_index()\n",
    "    tmp2 = rider[['ord_no', 'cth_wk_code', 'ymd', 'srv_amt', 'ord_amt', 'dvry_amt']].drop_duplicates().groupby(['cth_wk_code', 'ymd'])[['srv_amt', 'ord_amt', 'dvry_amt']].agg('sum', 'mean').reset_index()\n",
    "    agg1 = pd.concat([agg1, tmp1], axis = 0)\n",
    "    agg2 = pd.concat([agg2, tmp2], axis = 0)"
   ]
  },
  {
   "cell_type": "code",
   "execution_count": 7,
   "metadata": {},
   "outputs": [],
   "source": [
    "finl_total = pd.merge(agg1, agg2, how = 'inner', on = ['cth_wk_code', 'ymd'])"
   ]
  },
  {
   "cell_type": "code",
   "execution_count": 8,
   "metadata": {},
   "outputs": [],
   "source": [
    "with open(\"summary2_rider.pkl\",\"wb\") as fw:\n",
    "    pickle.dump(finl_total, fw)"
   ]
  },
  {
   "cell_type": "code",
   "execution_count": 10,
   "metadata": {},
   "outputs": [],
   "source": [
    "with open(f\"summary2_rider.pkl\",\"rb\") as fr:\n",
    "        sum1 = pickle.load(fr)"
   ]
  },
  {
   "cell_type": "code",
   "execution_count": 9,
   "metadata": {},
   "outputs": [],
   "source": [
    "with open(f\"ord_dat_total_agg.pkl\",\"rb\") as fr:\n",
    "        sum2 = pickle.load(fr)"
   ]
  },
  {
   "cell_type": "code",
   "execution_count": 11,
   "metadata": {},
   "outputs": [
    {
     "data": {
      "text/plain": [
       "cth_wk_code    object\n",
       "ymd             int64\n",
       "ord_no          int64\n",
       "srv_amt         int64\n",
       "ord_amt         int64\n",
       "dvry_amt        int64\n",
       "dtype: object"
      ]
     },
     "execution_count": 11,
     "metadata": {},
     "output_type": "execute_result"
    }
   ],
   "source": [
    "sum1.dtypes"
   ]
  },
  {
   "cell_type": "code",
   "execution_count": 12,
   "metadata": {},
   "outputs": [
    {
     "data": {
      "text/plain": [
       "wk_code                         object\n",
       "ymd                              int64\n",
       "cth_date        min     datetime64[ns]\n",
       "finish_date     max     datetime64[ns]\n",
       "total_cth_time         timedelta64[ns]\n",
       "dtype: object"
      ]
     },
     "execution_count": 12,
     "metadata": {},
     "output_type": "execute_result"
    }
   ],
   "source": [
    "sum2.dtypes"
   ]
  },
  {
   "cell_type": "code",
   "execution_count": 13,
   "metadata": {},
   "outputs": [],
   "source": [
    "sum1 = sum1.rename(columns = {'cth_wk_code':'wk_code'})"
   ]
  },
  {
   "cell_type": "code",
   "execution_count": null,
   "metadata": {},
   "outputs": [],
   "source": [
    "finl_sum1 = pd.merge(sum1, sum2, )"
   ]
  },
  {
   "cell_type": "code",
   "execution_count": null,
   "metadata": {},
   "outputs": [],
   "source": []
  },
  {
   "cell_type": "code",
   "execution_count": 3,
   "metadata": {},
   "outputs": [],
   "source": [
    "with open(f\"ord_dat_total_agg.pkl\",\"rb\") as fr:\n",
    "        ord_21 = pickle.load(fr)"
   ]
  },
  {
   "cell_type": "code",
   "execution_count": 4,
   "metadata": {},
   "outputs": [],
   "source": [
    "with open(f\"ord_dat_total_agg20.pkl\",\"rb\") as fr:\n",
    "        ord_20 = pickle.load(fr)"
   ]
  },
  {
   "cell_type": "code",
   "execution_count": 100,
   "metadata": {},
   "outputs": [],
   "source": [
    "with open(f\"wk_profit_total_2021.pkl\",\"rb\") as fr:\n",
    "        pf_21 = pickle.load(fr)"
   ]
  },
  {
   "cell_type": "code",
   "execution_count": 101,
   "metadata": {},
   "outputs": [],
   "source": [
    "with open(f\"wk_profit_total_2020.pkl\",\"rb\") as fr:\n",
    "        pf_20 = pickle.load(fr)"
   ]
  },
  {
   "cell_type": "code",
   "execution_count": 7,
   "metadata": {},
   "outputs": [],
   "source": [
    "ord_21_new = pd.DataFrame(ord_21.values, columns = ['wk_code', 'ymd', 'cth_date', 'finish_date', 'total_cth_time'])\n",
    "ord_20_new = pd.DataFrame(ord_20.values, columns = ['wk_code', 'ymd', 'cth_date', 'finish_date', 'total_cth_time'])"
   ]
  },
  {
   "cell_type": "code",
   "execution_count": 8,
   "metadata": {},
   "outputs": [],
   "source": [
    "pf_21 = pf_21.reset_index(drop = True)\n",
    "pf_20 = pf_20.reset_index(drop = True)"
   ]
  },
  {
   "cell_type": "code",
   "execution_count": 9,
   "metadata": {},
   "outputs": [],
   "source": [
    "ord_21_new['ymd'] = ord_21_new.ymd.apply(lambda x : str(x))\n",
    "ord_20_new['ymd'] = ord_20_new.ymd.apply(lambda x : str(x))"
   ]
  },
  {
   "cell_type": "code",
   "execution_count": 10,
   "metadata": {},
   "outputs": [],
   "source": [
    "pf_21 = pf_21.rename(columns = {'cth_wk_code' : 'wk_code'})\n",
    "pf_20 = pf_20.rename(columns = {'cth_wk_code' : 'wk_code'})"
   ]
  },
  {
   "cell_type": "code",
   "execution_count": 11,
   "metadata": {},
   "outputs": [],
   "source": [
    "ord_21_new = pd.merge(ord_21_new, pf_21, how = 'left', on = ['wk_code', 'ymd'])\n",
    "ord_20_new = pd.merge(ord_20_new, pf_20, how = 'left', on = ['wk_code', 'ymd'])"
   ]
  },
  {
   "cell_type": "code",
   "execution_count": 12,
   "metadata": {},
   "outputs": [],
   "source": [
    "ord_21_new = ord_21_new.loc[pd.notnull(ord_21_new.cth_br_code), :]\n",
    "ord_20_new = ord_20_new.loc[pd.notnull(ord_20_new.cth_br_code), :]"
   ]
  },
  {
   "cell_type": "code",
   "execution_count": 13,
   "metadata": {},
   "outputs": [],
   "source": [
    "ord_21_new['total_cth_hour'] = round(ord_21_new['total_cth_time'].dt.seconds/3600, 2)"
   ]
  },
  {
   "cell_type": "code",
   "execution_count": 14,
   "metadata": {},
   "outputs": [],
   "source": [
    "ord_20_new['total_cth_hour'] = round(ord_20_new['total_cth_time'].dt.seconds/3600, 2)"
   ]
  },
  {
   "cell_type": "code",
   "execution_count": 15,
   "metadata": {},
   "outputs": [],
   "source": [
    "ord_21_new['ym'] = ord_21_new.ymd.apply(lambda x: x[0:6])\n",
    "ord_20_new['ym'] = ord_20_new.ymd.apply(lambda x: x[0:6])"
   ]
  },
  {
   "cell_type": "code",
   "execution_count": 16,
   "metadata": {},
   "outputs": [],
   "source": [
    "agg_ym_21 = ord_21_new.groupby(['wk_code', 'ym'])[['ymd']].count().reset_index()\n",
    "agg_ym_21 = agg_ym_21.rename(columns = {'ymd':'day_cnt'})"
   ]
  },
  {
   "cell_type": "code",
   "execution_count": 17,
   "metadata": {},
   "outputs": [],
   "source": [
    "agg_ym_20 = ord_20_new.groupby(['wk_code', 'ym'])[['ymd']].count().reset_index()\n",
    "agg_ym_20 = agg_ym_20.rename(columns = {'ymd':'day_cnt'})"
   ]
  },
  {
   "cell_type": "code",
   "execution_count": 18,
   "metadata": {},
   "outputs": [],
   "source": [
    "dt21_dat = ord_21_new[['ym', 'ymd']].drop_duplicates().groupby(['ym']).count().reset_index()\n",
    "dt20_dat = ord_20_new[['ym', 'ymd']].drop_duplicates().groupby(['ym']).count().reset_index()"
   ]
  },
  {
   "cell_type": "code",
   "execution_count": 19,
   "metadata": {},
   "outputs": [],
   "source": [
    "agg_ym_21 = pd.merge(agg_ym_21, dt21_dat, how = 'left', on = ['ym'])\n",
    "agg_ym_20 = pd.merge(agg_ym_20, dt20_dat, how = 'left', on = ['ym'])"
   ]
  },
  {
   "cell_type": "code",
   "execution_count": 20,
   "metadata": {},
   "outputs": [],
   "source": [
    "agg_ym_21['cth_per'] = round(agg_ym_21.day_cnt/agg_ym_21.ymd, 2)"
   ]
  },
  {
   "cell_type": "code",
   "execution_count": 21,
   "metadata": {},
   "outputs": [],
   "source": [
    "agg_ym_20['cth_per'] = round(agg_ym_20.day_cnt/agg_ym_20.ymd, 2)"
   ]
  },
  {
   "cell_type": "code",
   "execution_count": 22,
   "metadata": {},
   "outputs": [],
   "source": [
    "agg_ym_21['week_num'] = agg_ym_21.ymd.apply(lambda x : int(x/7))\n",
    "agg_ym_20['week_num'] = agg_ym_20.ymd.apply(lambda x : int(x/7))"
   ]
  },
  {
   "cell_type": "code",
   "execution_count": 23,
   "metadata": {},
   "outputs": [],
   "source": [
    "agg_ym_21['cth_day_per_week'] = agg_ym_21.day_cnt/agg_ym_21.week_num\n",
    "agg_ym_20['cth_day_per_week'] = agg_ym_20.day_cnt/agg_ym_20.week_num"
   ]
  },
  {
   "cell_type": "code",
   "execution_count": 24,
   "metadata": {},
   "outputs": [],
   "source": [
    "agg_ym_21 = agg_ym_21.rename(columns = {'ymd' : 'month_day'})\n",
    "agg_ym_20 = agg_ym_20.rename(columns = {'ymd' : 'month_day'})"
   ]
  },
  {
   "cell_type": "code",
   "execution_count": 25,
   "metadata": {},
   "outputs": [],
   "source": [
    "ord_21_new = pd.merge(ord_21_new, agg_ym_21[['wk_code', 'ym', 'cth_day_per_week']], how = 'left', on = ['wk_code', 'ym'])\n",
    "ord_20_new = pd.merge(ord_20_new, agg_ym_20[['wk_code', 'ym', 'cth_day_per_week']], how = 'left', on = ['wk_code', 'ym'])"
   ]
  },
  {
   "cell_type": "code",
   "execution_count": 26,
   "metadata": {},
   "outputs": [],
   "source": [
    "ord_21_new = pd.merge(ord_21_new, agg_ym_21[['wk_code', 'ym', 'day_cnt', 'month_day', 'cth_per']], how = 'left', on = ['wk_code', 'ym'])\n",
    "ord_20_new = pd.merge(ord_20_new, agg_ym_20[['wk_code', 'ym', 'day_cnt', 'month_day', 'cth_per']], how = 'left', on = ['wk_code', 'ym'])"
   ]
  },
  {
   "cell_type": "code",
   "execution_count": 27,
   "metadata": {},
   "outputs": [],
   "source": [
    "agg_ym_21 = pd.merge(agg_ym_21, ord_21_new.groupby(['wk_code', 'ym'])[['total_cth_hour']].sum().reset_index(), how = 'left', on = ['wk_code', 'ym'])"
   ]
  },
  {
   "cell_type": "code",
   "execution_count": 28,
   "metadata": {},
   "outputs": [],
   "source": [
    "agg_ym_20 = pd.merge(agg_ym_20, ord_20_new.groupby(['wk_code', 'ym'])[['total_cth_hour']].sum().reset_index(), how = 'left', on = ['wk_code', 'ym'])"
   ]
  },
  {
   "cell_type": "code",
   "execution_count": 29,
   "metadata": {},
   "outputs": [],
   "source": [
    "ord_21_new['start_time'] = ord_21_new.cth_date.dt.hour"
   ]
  },
  {
   "cell_type": "code",
   "execution_count": 30,
   "metadata": {},
   "outputs": [],
   "source": [
    "ord_20_new['start_time'] = ord_20_new.cth_date.dt.hour"
   ]
  },
  {
   "cell_type": "code",
   "execution_count": 31,
   "metadata": {},
   "outputs": [],
   "source": [
    "agg_ym_21['avg_hour_per_week'] = agg_ym_21.total_cth_hour/agg_ym_21.week_num\n",
    "agg_ym_20['avg_hour_per_week'] = agg_ym_20.total_cth_hour/agg_ym_20.week_num"
   ]
  },
  {
   "cell_type": "code",
   "execution_count": 32,
   "metadata": {},
   "outputs": [],
   "source": [
    "ord_21_new = pd.merge(ord_21_new, agg_ym_21[['wk_code', 'ym', 'avg_hour_per_week']], how = 'left', on = ['wk_code', 'ym'])\n",
    "ord_20_new = pd.merge(ord_20_new, agg_ym_20[['wk_code', 'ym', 'avg_hour_per_week']], how = 'left', on = ['wk_code', 'ym'])"
   ]
  },
  {
   "cell_type": "code",
   "execution_count": null,
   "metadata": {},
   "outputs": [],
   "source": []
  },
  {
   "cell_type": "code",
   "execution_count": 73,
   "metadata": {},
   "outputs": [],
   "source": [
    "with open(\"yr21_data.pkl\",\"wb\") as fw:\n",
    "    pickle.dump(ord_21_new, fw)\n",
    "\n",
    "\n",
    "with open(\"yr20_data.pkl\",\"wb\") as fw:\n",
    "    pickle.dump(ord_20_new, fw)"
   ]
  },
  {
   "cell_type": "code",
   "execution_count": 47,
   "metadata": {},
   "outputs": [
    {
     "data": {
      "text/html": [
       "<div>\n",
       "<style scoped>\n",
       "    .dataframe tbody tr th:only-of-type {\n",
       "        vertical-align: middle;\n",
       "    }\n",
       "\n",
       "    .dataframe tbody tr th {\n",
       "        vertical-align: top;\n",
       "    }\n",
       "\n",
       "    .dataframe thead th {\n",
       "        text-align: right;\n",
       "    }\n",
       "</style>\n",
       "<table border=\"1\" class=\"dataframe\">\n",
       "  <thead>\n",
       "    <tr style=\"text-align: right;\">\n",
       "      <th></th>\n",
       "      <th>wk_code</th>\n",
       "      <th>ymd</th>\n",
       "      <th>cth_date</th>\n",
       "      <th>finish_date</th>\n",
       "      <th>total_cth_time</th>\n",
       "      <th>cth_br_code</th>\n",
       "      <th>ord_cnt</th>\n",
       "      <th>cth_profit</th>\n",
       "      <th>wk_fee</th>\n",
       "      <th>wk_income</th>\n",
       "      <th>...</th>\n",
       "      <th>ord_kind</th>\n",
       "      <th>total_cth_hour</th>\n",
       "      <th>ym</th>\n",
       "      <th>cth_day_per_week</th>\n",
       "      <th>day_cnt</th>\n",
       "      <th>month_day</th>\n",
       "      <th>cth_per</th>\n",
       "      <th>start_time</th>\n",
       "      <th>avg_hour_per_week</th>\n",
       "      <th>week_day</th>\n",
       "    </tr>\n",
       "  </thead>\n",
       "  <tbody>\n",
       "    <tr>\n",
       "      <th>133755</th>\n",
       "      <td>WA1809</td>\n",
       "      <td>20210101</td>\n",
       "      <td>2021-01-02 00:01:27</td>\n",
       "      <td>2021-01-02 01:00:23</td>\n",
       "      <td>0 days 00:58:56</td>\n",
       "      <td>B1720</td>\n",
       "      <td>1.0</td>\n",
       "      <td>3000.0</td>\n",
       "      <td>-300.0</td>\n",
       "      <td>2700.0</td>\n",
       "      <td>...</td>\n",
       "      <td>정상</td>\n",
       "      <td>0.98</td>\n",
       "      <td>202101</td>\n",
       "      <td>5.5</td>\n",
       "      <td>22</td>\n",
       "      <td>31</td>\n",
       "      <td>0.71</td>\n",
       "      <td>0</td>\n",
       "      <td>34.5425</td>\n",
       "      <td>5</td>\n",
       "    </tr>\n",
       "    <tr>\n",
       "      <th>156904</th>\n",
       "      <td>WA7710</td>\n",
       "      <td>20210101</td>\n",
       "      <td>2021-01-02 00:14:01</td>\n",
       "      <td>2021-01-02 06:52:48</td>\n",
       "      <td>0 days 06:38:47</td>\n",
       "      <td>B3481</td>\n",
       "      <td>1.0</td>\n",
       "      <td>3500.0</td>\n",
       "      <td>-400.0</td>\n",
       "      <td>3100.0</td>\n",
       "      <td>...</td>\n",
       "      <td>정상</td>\n",
       "      <td>6.65</td>\n",
       "      <td>202101</td>\n",
       "      <td>7.5</td>\n",
       "      <td>30</td>\n",
       "      <td>31</td>\n",
       "      <td>0.97</td>\n",
       "      <td>0</td>\n",
       "      <td>116.0850</td>\n",
       "      <td>5</td>\n",
       "    </tr>\n",
       "    <tr>\n",
       "      <th>196659</th>\n",
       "      <td>WB6965</td>\n",
       "      <td>20210101</td>\n",
       "      <td>2021-01-02 00:04:07</td>\n",
       "      <td>2021-01-02 00:31:08</td>\n",
       "      <td>0 days 00:27:01</td>\n",
       "      <td>B3254</td>\n",
       "      <td>2.0</td>\n",
       "      <td>7600.0</td>\n",
       "      <td>-600.0</td>\n",
       "      <td>7000.0</td>\n",
       "      <td>...</td>\n",
       "      <td>정상</td>\n",
       "      <td>0.45</td>\n",
       "      <td>202101</td>\n",
       "      <td>1.0</td>\n",
       "      <td>4</td>\n",
       "      <td>31</td>\n",
       "      <td>0.13</td>\n",
       "      <td>0</td>\n",
       "      <td>2.2850</td>\n",
       "      <td>5</td>\n",
       "    </tr>\n",
       "  </tbody>\n",
       "</table>\n",
       "<p>3 rows × 21 columns</p>\n",
       "</div>"
      ],
      "text/plain": [
       "       wk_code       ymd            cth_date         finish_date  \\\n",
       "133755  WA1809  20210101 2021-01-02 00:01:27 2021-01-02 01:00:23   \n",
       "156904  WA7710  20210101 2021-01-02 00:14:01 2021-01-02 06:52:48   \n",
       "196659  WB6965  20210101 2021-01-02 00:04:07 2021-01-02 00:31:08   \n",
       "\n",
       "        total_cth_time cth_br_code  ord_cnt  cth_profit  wk_fee  wk_income  \\\n",
       "133755 0 days 00:58:56       B1720      1.0      3000.0  -300.0     2700.0   \n",
       "156904 0 days 06:38:47       B3481      1.0      3500.0  -400.0     3100.0   \n",
       "196659 0 days 00:27:01       B3254      2.0      7600.0  -600.0     7000.0   \n",
       "\n",
       "        ...  ord_kind total_cth_hour      ym cth_day_per_week  day_cnt  \\\n",
       "133755  ...        정상           0.98  202101              5.5       22   \n",
       "156904  ...        정상           6.65  202101              7.5       30   \n",
       "196659  ...        정상           0.45  202101              1.0        4   \n",
       "\n",
       "        month_day  cth_per  start_time  avg_hour_per_week  week_day  \n",
       "133755         31     0.71           0            34.5425         5  \n",
       "156904         31     0.97           0           116.0850         5  \n",
       "196659         31     0.13           0             2.2850         5  \n",
       "\n",
       "[3 rows x 21 columns]"
      ]
     },
     "execution_count": 47,
     "metadata": {},
     "output_type": "execute_result"
    }
   ],
   "source": [
    "ord_21_new.loc[(ord_21_new.ymd == '20210101')&(ord_21_new.week_day == 5), :]"
   ]
  },
  {
   "cell_type": "code",
   "execution_count": 55,
   "metadata": {},
   "outputs": [],
   "source": [
    "def extr_weekday(col):\n",
    "    datetime_str = col[0:4] + '-' + col[4:6] + '-' + col[6:] + ' 00:00:00'\n",
    "    format = '%Y-%m-%d %H:%M:%S'\n",
    "    tmp_date = datetime.datetime.strptime(datetime_str,format)\n",
    "    return tmp_date.weekday()"
   ]
  },
  {
   "cell_type": "code",
   "execution_count": 56,
   "metadata": {},
   "outputs": [],
   "source": [
    "ord_21_new['week_day'] = ord_21_new.apply(lambda x: extr_weekday(x['ymd']), axis = 1)\n",
    "ord_20_new['week_day'] = ord_20_new.apply(lambda x: extr_weekday(x['ymd']), axis = 1)"
   ]
  },
  {
   "cell_type": "code",
   "execution_count": 58,
   "metadata": {},
   "outputs": [
    {
     "ename": "SyntaxError",
     "evalue": "invalid syntax (1360466962.py, line 1)",
     "output_type": "error",
     "traceback": [
      "\u001b[0;36m  File \u001b[0;32m\"/var/folders/27/qxr5003d2wqcrz8kr3tw7qhh0000gn/T/ipykernel_16395/1360466962.py\"\u001b[0;36m, line \u001b[0;32m1\u001b[0m\n\u001b[0;31m    ord_21_new.[['ym', 'ymd', 'week_day']].drop_duplicates()\u001b[0m\n\u001b[0m               ^\u001b[0m\n\u001b[0;31mSyntaxError\u001b[0m\u001b[0;31m:\u001b[0m invalid syntax\n"
     ]
    }
   ],
   "source": [
    "ord_21_new.[['ym', 'ymd', 'week_day']].drop_duplicates()\n",
    "ord_20_new.[['ym', 'ymd', 'week_day']].drop_duplicates()"
   ]
  },
  {
   "cell_type": "code",
   "execution_count": 62,
   "metadata": {},
   "outputs": [],
   "source": [
    "week_day21 = ord_21_new.loc[(ord_21_new.week_day ==5)|(ord_21_new.week_day==6)][['ym', 'ymd', 'week_day']].drop_duplicates().groupby(['ym'])[['ymd']].count().reset_index()\n",
    "week_day20 = ord_20_new.loc[(ord_20_new.week_day ==5)|(ord_20_new.week_day==6)][['ym', 'ymd', 'week_day']].drop_duplicates().groupby(['ym'])[['ymd']].count().reset_index()"
   ]
  },
  {
   "cell_type": "code",
   "execution_count": 64,
   "metadata": {},
   "outputs": [],
   "source": [
    "week_wk_cnt21 = ord_21_new.loc[(ord_21_new.week_day ==5)|(ord_21_new.week_day==6)][['ym', 'wk_code', 'ymd']].groupby(['ym', 'wk_code']).count().reset_index()\n",
    "week_wk_cnt20 = ord_20_new.loc[(ord_20_new.week_day ==5)|(ord_20_new.week_day==6)][['ym', 'wk_code', 'ymd']].groupby(['ym', 'wk_code']).count().reset_index()"
   ]
  },
  {
   "cell_type": "code",
   "execution_count": 66,
   "metadata": {},
   "outputs": [],
   "source": [
    "week_wk_cnt21 = week_wk_cnt21.rename(columns = {'ymd':'week_cth_cnt'})"
   ]
  },
  {
   "cell_type": "code",
   "execution_count": 67,
   "metadata": {},
   "outputs": [],
   "source": [
    "week_wk_cnt20 = week_wk_cnt20.rename(columns = {'ymd':'week_cth_cnt'})"
   ]
  },
  {
   "cell_type": "code",
   "execution_count": 68,
   "metadata": {},
   "outputs": [
    {
     "data": {
      "text/html": [
       "<div>\n",
       "<style scoped>\n",
       "    .dataframe tbody tr th:only-of-type {\n",
       "        vertical-align: middle;\n",
       "    }\n",
       "\n",
       "    .dataframe tbody tr th {\n",
       "        vertical-align: top;\n",
       "    }\n",
       "\n",
       "    .dataframe thead th {\n",
       "        text-align: right;\n",
       "    }\n",
       "</style>\n",
       "<table border=\"1\" class=\"dataframe\">\n",
       "  <thead>\n",
       "    <tr style=\"text-align: right;\">\n",
       "      <th></th>\n",
       "      <th>ym</th>\n",
       "      <th>wk_code</th>\n",
       "      <th>week_cth_cnt</th>\n",
       "    </tr>\n",
       "  </thead>\n",
       "  <tbody>\n",
       "    <tr>\n",
       "      <th>0</th>\n",
       "      <td>202101</td>\n",
       "      <td>W00442</td>\n",
       "      <td>10</td>\n",
       "    </tr>\n",
       "    <tr>\n",
       "      <th>1</th>\n",
       "      <td>202101</td>\n",
       "      <td>W00695</td>\n",
       "      <td>10</td>\n",
       "    </tr>\n",
       "    <tr>\n",
       "      <th>2</th>\n",
       "      <td>202101</td>\n",
       "      <td>W01219</td>\n",
       "      <td>6</td>\n",
       "    </tr>\n",
       "    <tr>\n",
       "      <th>3</th>\n",
       "      <td>202101</td>\n",
       "      <td>W02719</td>\n",
       "      <td>7</td>\n",
       "    </tr>\n",
       "    <tr>\n",
       "      <th>4</th>\n",
       "      <td>202101</td>\n",
       "      <td>W02891</td>\n",
       "      <td>5</td>\n",
       "    </tr>\n",
       "    <tr>\n",
       "      <th>...</th>\n",
       "      <td>...</td>\n",
       "      <td>...</td>\n",
       "      <td>...</td>\n",
       "    </tr>\n",
       "    <tr>\n",
       "      <th>272581</th>\n",
       "      <td>202112</td>\n",
       "      <td>WL2617</td>\n",
       "      <td>1</td>\n",
       "    </tr>\n",
       "    <tr>\n",
       "      <th>272582</th>\n",
       "      <td>202112</td>\n",
       "      <td>WL2619</td>\n",
       "      <td>1</td>\n",
       "    </tr>\n",
       "    <tr>\n",
       "      <th>272583</th>\n",
       "      <td>202112</td>\n",
       "      <td>WL2621</td>\n",
       "      <td>1</td>\n",
       "    </tr>\n",
       "    <tr>\n",
       "      <th>272584</th>\n",
       "      <td>202112</td>\n",
       "      <td>WL2622</td>\n",
       "      <td>1</td>\n",
       "    </tr>\n",
       "    <tr>\n",
       "      <th>272585</th>\n",
       "      <td>202112</td>\n",
       "      <td>WL2625</td>\n",
       "      <td>1</td>\n",
       "    </tr>\n",
       "  </tbody>\n",
       "</table>\n",
       "<p>272586 rows × 3 columns</p>\n",
       "</div>"
      ],
      "text/plain": [
       "            ym wk_code  week_cth_cnt\n",
       "0       202101  W00442            10\n",
       "1       202101  W00695            10\n",
       "2       202101  W01219             6\n",
       "3       202101  W02719             7\n",
       "4       202101  W02891             5\n",
       "...        ...     ...           ...\n",
       "272581  202112  WL2617             1\n",
       "272582  202112  WL2619             1\n",
       "272583  202112  WL2621             1\n",
       "272584  202112  WL2622             1\n",
       "272585  202112  WL2625             1\n",
       "\n",
       "[272586 rows x 3 columns]"
      ]
     },
     "execution_count": 68,
     "metadata": {},
     "output_type": "execute_result"
    }
   ],
   "source": [
    "week_wk_cnt21"
   ]
  },
  {
   "cell_type": "code",
   "execution_count": 70,
   "metadata": {},
   "outputs": [],
   "source": [
    "ord_21_new = pd.merge(ord_21_new, week_wk_cnt21, how = 'left', on = ['ym', 'wk_code'])\n",
    "ord_20_new = pd.merge(ord_20_new, week_wk_cnt20, how = 'left', on = ['ym', 'wk_code'])"
   ]
  },
  {
   "cell_type": "code",
   "execution_count": 72,
   "metadata": {},
   "outputs": [],
   "source": [
    "ord_21_new['weekend_per'] = round(ord_21_new.week_cth_cnt / ord_21_new.ord_cnt, 2)\n",
    "ord_20_new['weekend_per'] = round(ord_20_new.week_cth_cnt / ord_20_new.ord_cnt, 2)"
   ]
  },
  {
   "cell_type": "code",
   "execution_count": null,
   "metadata": {},
   "outputs": [],
   "source": [
    "with open(\"yr21_data.pkl\",\"wb\") as fw:\n",
    "    pickle.dump(ord_21_new, fw)\n",
    "\n",
    "\n",
    "with open(\"yr20_data.pkl\",\"wb\") as fw:\n",
    "    pickle.dump(ord_20_new, fw)"
   ]
  },
  {
   "cell_type": "code",
   "execution_count": 3,
   "metadata": {},
   "outputs": [],
   "source": [
    "with open(\"yr21_data.pkl\",\"rb\") as fr:\n",
    "        ord_21_new = pickle.load(fr)\n",
    "\n",
    "with open(\"yr20_data.pkl\",\"rb\") as fr:\n",
    "        ord_20_new = pickle.load(fr)"
   ]
  },
  {
   "cell_type": "code",
   "execution_count": 4,
   "metadata": {},
   "outputs": [
    {
     "data": {
      "text/html": [
       "<div>\n",
       "<style scoped>\n",
       "    .dataframe tbody tr th:only-of-type {\n",
       "        vertical-align: middle;\n",
       "    }\n",
       "\n",
       "    .dataframe tbody tr th {\n",
       "        vertical-align: top;\n",
       "    }\n",
       "\n",
       "    .dataframe thead th {\n",
       "        text-align: right;\n",
       "    }\n",
       "</style>\n",
       "<table border=\"1\" class=\"dataframe\">\n",
       "  <thead>\n",
       "    <tr style=\"text-align: right;\">\n",
       "      <th></th>\n",
       "      <th>wk_code</th>\n",
       "      <th>ymd</th>\n",
       "      <th>cth_date</th>\n",
       "      <th>finish_date</th>\n",
       "      <th>total_cth_time</th>\n",
       "      <th>cth_br_code</th>\n",
       "      <th>ord_cnt</th>\n",
       "      <th>cth_profit</th>\n",
       "      <th>wk_fee</th>\n",
       "      <th>wk_income</th>\n",
       "      <th>...</th>\n",
       "      <th>ym</th>\n",
       "      <th>cth_day_per_week</th>\n",
       "      <th>day_cnt</th>\n",
       "      <th>month_day</th>\n",
       "      <th>cth_per</th>\n",
       "      <th>start_time</th>\n",
       "      <th>avg_hour_per_week</th>\n",
       "      <th>week_day</th>\n",
       "      <th>week_cth_cnt</th>\n",
       "      <th>weekend_per</th>\n",
       "    </tr>\n",
       "  </thead>\n",
       "  <tbody>\n",
       "    <tr>\n",
       "      <th>0</th>\n",
       "      <td>W00442</td>\n",
       "      <td>20210101</td>\n",
       "      <td>2021-01-01 11:55:46</td>\n",
       "      <td>2021-01-01 19:00:14</td>\n",
       "      <td>0 days 07:04:28</td>\n",
       "      <td>B0038</td>\n",
       "      <td>30.0</td>\n",
       "      <td>128601.0</td>\n",
       "      <td>-8700.0</td>\n",
       "      <td>119901.0</td>\n",
       "      <td>...</td>\n",
       "      <td>202101</td>\n",
       "      <td>6.50</td>\n",
       "      <td>26</td>\n",
       "      <td>31</td>\n",
       "      <td>0.84</td>\n",
       "      <td>11</td>\n",
       "      <td>65.4675</td>\n",
       "      <td>4</td>\n",
       "      <td>10.0</td>\n",
       "      <td>0.33</td>\n",
       "    </tr>\n",
       "    <tr>\n",
       "      <th>1</th>\n",
       "      <td>W00442</td>\n",
       "      <td>20210102</td>\n",
       "      <td>2021-01-02 11:42:22</td>\n",
       "      <td>2021-01-02 21:10:50</td>\n",
       "      <td>0 days 09:28:28</td>\n",
       "      <td>B0038</td>\n",
       "      <td>37.0</td>\n",
       "      <td>149818.0</td>\n",
       "      <td>-10500.0</td>\n",
       "      <td>139318.0</td>\n",
       "      <td>...</td>\n",
       "      <td>202101</td>\n",
       "      <td>6.50</td>\n",
       "      <td>26</td>\n",
       "      <td>31</td>\n",
       "      <td>0.84</td>\n",
       "      <td>11</td>\n",
       "      <td>65.4675</td>\n",
       "      <td>5</td>\n",
       "      <td>10.0</td>\n",
       "      <td>0.27</td>\n",
       "    </tr>\n",
       "    <tr>\n",
       "      <th>2</th>\n",
       "      <td>W00442</td>\n",
       "      <td>20210103</td>\n",
       "      <td>2021-01-03 11:48:24</td>\n",
       "      <td>2021-01-03 22:29:53</td>\n",
       "      <td>0 days 10:41:29</td>\n",
       "      <td>B0038</td>\n",
       "      <td>43.0</td>\n",
       "      <td>164907.0</td>\n",
       "      <td>-11700.0</td>\n",
       "      <td>153207.0</td>\n",
       "      <td>...</td>\n",
       "      <td>202101</td>\n",
       "      <td>6.50</td>\n",
       "      <td>26</td>\n",
       "      <td>31</td>\n",
       "      <td>0.84</td>\n",
       "      <td>11</td>\n",
       "      <td>65.4675</td>\n",
       "      <td>6</td>\n",
       "      <td>10.0</td>\n",
       "      <td>0.23</td>\n",
       "    </tr>\n",
       "    <tr>\n",
       "      <th>3</th>\n",
       "      <td>W00442</td>\n",
       "      <td>20210104</td>\n",
       "      <td>2021-01-04 12:08:28</td>\n",
       "      <td>2021-01-04 22:06:23</td>\n",
       "      <td>0 days 09:57:55</td>\n",
       "      <td>B0038</td>\n",
       "      <td>22.0</td>\n",
       "      <td>89030.0</td>\n",
       "      <td>-6300.0</td>\n",
       "      <td>82730.0</td>\n",
       "      <td>...</td>\n",
       "      <td>202101</td>\n",
       "      <td>6.50</td>\n",
       "      <td>26</td>\n",
       "      <td>31</td>\n",
       "      <td>0.84</td>\n",
       "      <td>12</td>\n",
       "      <td>65.4675</td>\n",
       "      <td>0</td>\n",
       "      <td>10.0</td>\n",
       "      <td>0.45</td>\n",
       "    </tr>\n",
       "    <tr>\n",
       "      <th>4</th>\n",
       "      <td>W00442</td>\n",
       "      <td>20210106</td>\n",
       "      <td>2021-01-06 11:38:13</td>\n",
       "      <td>2021-01-06 23:00:14</td>\n",
       "      <td>0 days 11:22:01</td>\n",
       "      <td>B0038</td>\n",
       "      <td>43.0</td>\n",
       "      <td>147251.0</td>\n",
       "      <td>-11100.0</td>\n",
       "      <td>136151.0</td>\n",
       "      <td>...</td>\n",
       "      <td>202101</td>\n",
       "      <td>6.50</td>\n",
       "      <td>26</td>\n",
       "      <td>31</td>\n",
       "      <td>0.84</td>\n",
       "      <td>11</td>\n",
       "      <td>65.4675</td>\n",
       "      <td>2</td>\n",
       "      <td>10.0</td>\n",
       "      <td>0.23</td>\n",
       "    </tr>\n",
       "    <tr>\n",
       "      <th>...</th>\n",
       "      <td>...</td>\n",
       "      <td>...</td>\n",
       "      <td>...</td>\n",
       "      <td>...</td>\n",
       "      <td>...</td>\n",
       "      <td>...</td>\n",
       "      <td>...</td>\n",
       "      <td>...</td>\n",
       "      <td>...</td>\n",
       "      <td>...</td>\n",
       "      <td>...</td>\n",
       "      <td>...</td>\n",
       "      <td>...</td>\n",
       "      <td>...</td>\n",
       "      <td>...</td>\n",
       "      <td>...</td>\n",
       "      <td>...</td>\n",
       "      <td>...</td>\n",
       "      <td>...</td>\n",
       "      <td>...</td>\n",
       "      <td>...</td>\n",
       "    </tr>\n",
       "    <tr>\n",
       "      <th>5151162</th>\n",
       "      <td>WL3797</td>\n",
       "      <td>20211231</td>\n",
       "      <td>2021-12-31 18:10:38</td>\n",
       "      <td>2021-12-31 23:25:24</td>\n",
       "      <td>0 days 05:14:46</td>\n",
       "      <td>B2917</td>\n",
       "      <td>23.0</td>\n",
       "      <td>108700.0</td>\n",
       "      <td>-12629.0</td>\n",
       "      <td>96071.0</td>\n",
       "      <td>...</td>\n",
       "      <td>202112</td>\n",
       "      <td>0.25</td>\n",
       "      <td>1</td>\n",
       "      <td>31</td>\n",
       "      <td>0.03</td>\n",
       "      <td>18</td>\n",
       "      <td>1.3125</td>\n",
       "      <td>4</td>\n",
       "      <td>NaN</td>\n",
       "      <td>NaN</td>\n",
       "    </tr>\n",
       "    <tr>\n",
       "      <th>5151163</th>\n",
       "      <td>WL3809</td>\n",
       "      <td>20211231</td>\n",
       "      <td>2021-12-31 20:43:06</td>\n",
       "      <td>2021-12-31 22:41:57</td>\n",
       "      <td>0 days 01:58:51</td>\n",
       "      <td>B1396</td>\n",
       "      <td>10.0</td>\n",
       "      <td>31700.0</td>\n",
       "      <td>-3040.0</td>\n",
       "      <td>28660.0</td>\n",
       "      <td>...</td>\n",
       "      <td>202112</td>\n",
       "      <td>0.25</td>\n",
       "      <td>1</td>\n",
       "      <td>31</td>\n",
       "      <td>0.03</td>\n",
       "      <td>20</td>\n",
       "      <td>0.4950</td>\n",
       "      <td>4</td>\n",
       "      <td>NaN</td>\n",
       "      <td>NaN</td>\n",
       "    </tr>\n",
       "    <tr>\n",
       "      <th>5151164</th>\n",
       "      <td>WL3811</td>\n",
       "      <td>20211231</td>\n",
       "      <td>2021-12-31 20:13:58</td>\n",
       "      <td>2022-01-01 00:31:31</td>\n",
       "      <td>0 days 04:17:33</td>\n",
       "      <td>B2303</td>\n",
       "      <td>24.0</td>\n",
       "      <td>99647.0</td>\n",
       "      <td>-8800.0</td>\n",
       "      <td>90847.0</td>\n",
       "      <td>...</td>\n",
       "      <td>202112</td>\n",
       "      <td>0.25</td>\n",
       "      <td>1</td>\n",
       "      <td>31</td>\n",
       "      <td>0.03</td>\n",
       "      <td>20</td>\n",
       "      <td>1.0725</td>\n",
       "      <td>4</td>\n",
       "      <td>NaN</td>\n",
       "      <td>NaN</td>\n",
       "    </tr>\n",
       "    <tr>\n",
       "      <th>5151165</th>\n",
       "      <td>WL3818</td>\n",
       "      <td>20211231</td>\n",
       "      <td>2021-12-31 22:02:06</td>\n",
       "      <td>2021-12-31 23:41:06</td>\n",
       "      <td>0 days 01:39:00</td>\n",
       "      <td>B5137</td>\n",
       "      <td>9.0</td>\n",
       "      <td>40992.0</td>\n",
       "      <td>-2700.0</td>\n",
       "      <td>38292.0</td>\n",
       "      <td>...</td>\n",
       "      <td>202112</td>\n",
       "      <td>0.25</td>\n",
       "      <td>1</td>\n",
       "      <td>31</td>\n",
       "      <td>0.03</td>\n",
       "      <td>22</td>\n",
       "      <td>0.4125</td>\n",
       "      <td>4</td>\n",
       "      <td>NaN</td>\n",
       "      <td>NaN</td>\n",
       "    </tr>\n",
       "    <tr>\n",
       "      <th>5151166</th>\n",
       "      <td>WL3820</td>\n",
       "      <td>20211231</td>\n",
       "      <td>2021-12-31 22:28:46</td>\n",
       "      <td>2022-01-01 00:14:47</td>\n",
       "      <td>0 days 01:46:01</td>\n",
       "      <td>B4497</td>\n",
       "      <td>11.0</td>\n",
       "      <td>48800.0</td>\n",
       "      <td>-4400.0</td>\n",
       "      <td>44400.0</td>\n",
       "      <td>...</td>\n",
       "      <td>202112</td>\n",
       "      <td>0.25</td>\n",
       "      <td>1</td>\n",
       "      <td>31</td>\n",
       "      <td>0.03</td>\n",
       "      <td>22</td>\n",
       "      <td>0.4425</td>\n",
       "      <td>4</td>\n",
       "      <td>NaN</td>\n",
       "      <td>NaN</td>\n",
       "    </tr>\n",
       "  </tbody>\n",
       "</table>\n",
       "<p>5151167 rows × 23 columns</p>\n",
       "</div>"
      ],
      "text/plain": [
       "        wk_code       ymd            cth_date         finish_date  \\\n",
       "0        W00442  20210101 2021-01-01 11:55:46 2021-01-01 19:00:14   \n",
       "1        W00442  20210102 2021-01-02 11:42:22 2021-01-02 21:10:50   \n",
       "2        W00442  20210103 2021-01-03 11:48:24 2021-01-03 22:29:53   \n",
       "3        W00442  20210104 2021-01-04 12:08:28 2021-01-04 22:06:23   \n",
       "4        W00442  20210106 2021-01-06 11:38:13 2021-01-06 23:00:14   \n",
       "...         ...       ...                 ...                 ...   \n",
       "5151162  WL3797  20211231 2021-12-31 18:10:38 2021-12-31 23:25:24   \n",
       "5151163  WL3809  20211231 2021-12-31 20:43:06 2021-12-31 22:41:57   \n",
       "5151164  WL3811  20211231 2021-12-31 20:13:58 2022-01-01 00:31:31   \n",
       "5151165  WL3818  20211231 2021-12-31 22:02:06 2021-12-31 23:41:06   \n",
       "5151166  WL3820  20211231 2021-12-31 22:28:46 2022-01-01 00:14:47   \n",
       "\n",
       "         total_cth_time cth_br_code  ord_cnt  cth_profit   wk_fee  wk_income  \\\n",
       "0       0 days 07:04:28       B0038     30.0    128601.0  -8700.0   119901.0   \n",
       "1       0 days 09:28:28       B0038     37.0    149818.0 -10500.0   139318.0   \n",
       "2       0 days 10:41:29       B0038     43.0    164907.0 -11700.0   153207.0   \n",
       "3       0 days 09:57:55       B0038     22.0     89030.0  -6300.0    82730.0   \n",
       "4       0 days 11:22:01       B0038     43.0    147251.0 -11100.0   136151.0   \n",
       "...                 ...         ...      ...         ...      ...        ...   \n",
       "5151162 0 days 05:14:46       B2917     23.0    108700.0 -12629.0    96071.0   \n",
       "5151163 0 days 01:58:51       B1396     10.0     31700.0  -3040.0    28660.0   \n",
       "5151164 0 days 04:17:33       B2303     24.0     99647.0  -8800.0    90847.0   \n",
       "5151165 0 days 01:39:00       B5137      9.0     40992.0  -2700.0    38292.0   \n",
       "5151166 0 days 01:46:01       B4497     11.0     48800.0  -4400.0    44400.0   \n",
       "\n",
       "         ...      ym cth_day_per_week  day_cnt month_day  cth_per  start_time  \\\n",
       "0        ...  202101             6.50       26        31     0.84          11   \n",
       "1        ...  202101             6.50       26        31     0.84          11   \n",
       "2        ...  202101             6.50       26        31     0.84          11   \n",
       "3        ...  202101             6.50       26        31     0.84          12   \n",
       "4        ...  202101             6.50       26        31     0.84          11   \n",
       "...      ...     ...              ...      ...       ...      ...         ...   \n",
       "5151162  ...  202112             0.25        1        31     0.03          18   \n",
       "5151163  ...  202112             0.25        1        31     0.03          20   \n",
       "5151164  ...  202112             0.25        1        31     0.03          20   \n",
       "5151165  ...  202112             0.25        1        31     0.03          22   \n",
       "5151166  ...  202112             0.25        1        31     0.03          22   \n",
       "\n",
       "         avg_hour_per_week  week_day  week_cth_cnt  weekend_per  \n",
       "0                  65.4675         4          10.0         0.33  \n",
       "1                  65.4675         5          10.0         0.27  \n",
       "2                  65.4675         6          10.0         0.23  \n",
       "3                  65.4675         0          10.0         0.45  \n",
       "4                  65.4675         2          10.0         0.23  \n",
       "...                    ...       ...           ...          ...  \n",
       "5151162             1.3125         4           NaN          NaN  \n",
       "5151163             0.4950         4           NaN          NaN  \n",
       "5151164             1.0725         4           NaN          NaN  \n",
       "5151165             0.4125         4           NaN          NaN  \n",
       "5151166             0.4425         4           NaN          NaN  \n",
       "\n",
       "[5151167 rows x 23 columns]"
      ]
     },
     "execution_count": 4,
     "metadata": {},
     "output_type": "execute_result"
    }
   ],
   "source": [
    "ord_21_new"
   ]
  },
  {
   "cell_type": "code",
   "execution_count": 87,
   "metadata": {},
   "outputs": [
    {
     "data": {
      "text/plain": [
       "Index(['wk_code', 'ymd', 'cth_date', 'finish_date', 'total_cth_time',\n",
       "       'cth_br_code', 'ord_cnt', 'cth_profit', 'wk_fee', 'wk_income',\n",
       "       'wk_income_tax', 'ord_kind', 'total_cth_hour', 'ym',\n",
       "       'cth_day_per_week_x', 'day_cnt_x', 'month_day', 'cth_per_x',\n",
       "       'start_time', 'avg_hour_per_week', 'week_day', 'week_cth_cnt',\n",
       "       'weekend_per', 'avg_start_time', 'avg_ord_cnt', 'day_cnt_y',\n",
       "       'cth_day_per_week_y', 'cth_per_y'],\n",
       "      dtype='object')"
      ]
     },
     "execution_count": 87,
     "metadata": {},
     "output_type": "execute_result"
    }
   ],
   "source": [
    "ord_21_new.columns"
   ]
  },
  {
   "cell_type": "code",
   "execution_count": 4,
   "metadata": {},
   "outputs": [],
   "source": [
    "ord_21_new = pd.merge(ord_21_new, ord_21_new.groupby(['wk_code'])[['start_time']].mean().reset_index().rename(columns = {'start_time' : 'avg_start_time'}), how = 'left', on = ['wk_code'])\n",
    "ord_20_new = pd.merge(ord_20_new, ord_20_new.groupby(['wk_code'])[['start_time']].mean().reset_index().rename(columns = {'start_time' : 'avg_start_time'}), how = 'left', on = ['wk_code'])"
   ]
  },
  {
   "cell_type": "code",
   "execution_count": 5,
   "metadata": {},
   "outputs": [],
   "source": [
    "ord_21_new = pd.merge(ord_21_new, ord_21_new.groupby(['wk_code'])[['ord_cnt']].mean().reset_index().rename(columns = {'ord_cnt' : 'avg_ord_cnt'}), how = 'left', on = ['wk_code'])\n",
    "ord_20_new = pd.merge(ord_20_new, ord_20_new.groupby(['wk_code'])[['ord_cnt']].mean().reset_index().rename(columns = {'ord_cnt' : 'avg_ord_cnt'}), how = 'left', on = ['wk_code'])"
   ]
  },
  {
   "cell_type": "code",
   "execution_count": 6,
   "metadata": {},
   "outputs": [],
   "source": [
    "ord_21_new = pd.merge(ord_21_new, ord_21_new.groupby(['wk_code'])[['day_cnt']].mean().reset_index().rename(columns = {'day_cnt' : 'avg_day_cnt'}), how = 'left', on = ['wk_code'])\n",
    "ord_20_new = pd.merge(ord_20_new, ord_20_new.groupby(['wk_code'])[['day_cnt']].mean().reset_index().rename(columns = {'day_cnt' : 'avg_day_cnt'}), how = 'left', on = ['wk_code'])"
   ]
  },
  {
   "cell_type": "code",
   "execution_count": 7,
   "metadata": {},
   "outputs": [],
   "source": [
    "ord_21_new = pd.merge(ord_21_new, ord_21_new.groupby(['wk_code'])[['cth_day_per_week']].mean().reset_index().rename(columns = {'cth_day_per_week' : 'avg_cth_day_per_week'}), how = 'left', on = ['wk_code'])\n",
    "ord_20_new = pd.merge(ord_20_new, ord_20_new.groupby(['wk_code'])[['cth_day_per_week']].mean().reset_index().rename(columns = {'cth_day_per_week' : 'avg_cth_day_per_week'}), how = 'left', on = ['wk_code'])"
   ]
  },
  {
   "cell_type": "code",
   "execution_count": 8,
   "metadata": {},
   "outputs": [],
   "source": [
    "ord_21_new = pd.merge(ord_21_new, ord_21_new.groupby(['wk_code'])[['cth_per']].mean().reset_index().rename(columns = {'cth_per' : 'avg_cth_per'}), how = 'left', on = ['wk_code'])\n",
    "ord_20_new = pd.merge(ord_20_new, ord_20_new.groupby(['wk_code'])[['cth_per']].mean().reset_index().rename(columns = {'cth_per' : 'avg_cth_per'}), how = 'left', on = ['wk_code'])"
   ]
  },
  {
   "cell_type": "code",
   "execution_count": 9,
   "metadata": {},
   "outputs": [],
   "source": [
    "ord_21_new = pd.merge(ord_21_new, ord_21_new.groupby(['wk_code'])[['avg_hour_per_week']].mean().reset_index().rename(columns = {'avg_hour_per_week' : 'avg_avg_hour_per_week'}), how = 'left', on = ['wk_code'])\n",
    "ord_20_new = pd.merge(ord_20_new, ord_20_new.groupby(['wk_code'])[['avg_hour_per_week']].mean().reset_index().rename(columns = {'avg_hour_per_week' : 'avg_avg_hour_per_week'}), how = 'left', on = ['wk_code'])"
   ]
  },
  {
   "cell_type": "code",
   "execution_count": 10,
   "metadata": {},
   "outputs": [],
   "source": [
    "ord_21_new = pd.merge(ord_21_new, ord_21_new.groupby(['wk_code'])[['total_cth_hour']].mean().reset_index().rename(columns = {'total_cth_hour' : 'avg_total_cth_hour'}), how = 'left', on = ['wk_code'])\n",
    "ord_20_new = pd.merge(ord_20_new, ord_20_new.groupby(['wk_code'])[['total_cth_hour']].mean().reset_index().rename(columns = {'total_cth_hour' : 'avg_total_cth_hour'}), how = 'left', on = ['wk_code'])"
   ]
  },
  {
   "cell_type": "code",
   "execution_count": 29,
   "metadata": {},
   "outputs": [],
   "source": [
    "ord_21_new = pd.merge(ord_21_new, ord_21_new.groupby(['wk_code'])[['weekend_per']].mean().reset_index().rename(columns = {'weekend_per' : 'avg_weekend_per'}), how = 'left', on = ['wk_code'])\n",
    "ord_20_new = pd.merge(ord_20_new, ord_20_new.groupby(['wk_code'])[['weekend_per']].mean().reset_index().rename(columns = {'weekend_per' : 'avg_weekend_per'}), how = 'left', on = ['wk_code'])"
   ]
  },
  {
   "cell_type": "code",
   "execution_count": 13,
   "metadata": {},
   "outputs": [],
   "source": [
    "tmp21 = ord_21_new[['wk_code', 'avg_start_time', 'avg_ord_cnt', 'avg_day_cnt', 'avg_cth_day_per_week', 'avg_cth_per', 'avg_avg_hour_per_week', 'avg_total_cth_hour']].drop_duplicates().reset_index(drop = True)\n",
    "tmp20 = ord_20_new[['wk_code', 'avg_start_time', 'avg_ord_cnt', 'avg_day_cnt', 'avg_cth_day_per_week', 'avg_cth_per', 'avg_avg_hour_per_week', 'avg_total_cth_hour']].drop_duplicates().reset_index(drop = True)"
   ]
  },
  {
   "cell_type": "code",
   "execution_count": 14,
   "metadata": {},
   "outputs": [
    {
     "data": {
      "text/html": [
       "<div>\n",
       "<style scoped>\n",
       "    .dataframe tbody tr th:only-of-type {\n",
       "        vertical-align: middle;\n",
       "    }\n",
       "\n",
       "    .dataframe tbody tr th {\n",
       "        vertical-align: top;\n",
       "    }\n",
       "\n",
       "    .dataframe thead th {\n",
       "        text-align: right;\n",
       "    }\n",
       "</style>\n",
       "<table border=\"1\" class=\"dataframe\">\n",
       "  <thead>\n",
       "    <tr style=\"text-align: right;\">\n",
       "      <th></th>\n",
       "      <th>avg_start_time</th>\n",
       "      <th>avg_ord_cnt</th>\n",
       "      <th>avg_day_cnt</th>\n",
       "      <th>avg_cth_day_per_week</th>\n",
       "      <th>avg_cth_per</th>\n",
       "      <th>avg_avg_hour_per_week</th>\n",
       "      <th>avg_total_cth_hour</th>\n",
       "    </tr>\n",
       "  </thead>\n",
       "  <tbody>\n",
       "    <tr>\n",
       "      <th>count</th>\n",
       "      <td>74248.000000</td>\n",
       "      <td>74248.000000</td>\n",
       "      <td>74248.000000</td>\n",
       "      <td>74248.000000</td>\n",
       "      <td>74248.000000</td>\n",
       "      <td>74248.000000</td>\n",
       "      <td>74248.000000</td>\n",
       "    </tr>\n",
       "    <tr>\n",
       "      <th>mean</th>\n",
       "      <td>13.653958</td>\n",
       "      <td>24.646398</td>\n",
       "      <td>14.843226</td>\n",
       "      <td>3.710806</td>\n",
       "      <td>0.487161</td>\n",
       "      <td>29.598043</td>\n",
       "      <td>6.939809</td>\n",
       "    </tr>\n",
       "    <tr>\n",
       "      <th>std</th>\n",
       "      <td>2.898635</td>\n",
       "      <td>14.535857</td>\n",
       "      <td>8.715034</td>\n",
       "      <td>2.178759</td>\n",
       "      <td>0.286444</td>\n",
       "      <td>23.544139</td>\n",
       "      <td>3.099556</td>\n",
       "    </tr>\n",
       "    <tr>\n",
       "      <th>min</th>\n",
       "      <td>0.000000</td>\n",
       "      <td>1.000000</td>\n",
       "      <td>1.000000</td>\n",
       "      <td>0.250000</td>\n",
       "      <td>0.030000</td>\n",
       "      <td>0.000000</td>\n",
       "      <td>0.000000</td>\n",
       "    </tr>\n",
       "    <tr>\n",
       "      <th>25%</th>\n",
       "      <td>11.250000</td>\n",
       "      <td>13.259259</td>\n",
       "      <td>6.600000</td>\n",
       "      <td>1.650000</td>\n",
       "      <td>0.216364</td>\n",
       "      <td>8.131484</td>\n",
       "      <td>4.590700</td>\n",
       "    </tr>\n",
       "    <tr>\n",
       "      <th>50%</th>\n",
       "      <td>13.142857</td>\n",
       "      <td>23.333333</td>\n",
       "      <td>16.044740</td>\n",
       "      <td>4.011185</td>\n",
       "      <td>0.527813</td>\n",
       "      <td>25.403811</td>\n",
       "      <td>7.163542</td>\n",
       "    </tr>\n",
       "    <tr>\n",
       "      <th>75%</th>\n",
       "      <td>15.888889</td>\n",
       "      <td>34.142857</td>\n",
       "      <td>22.615385</td>\n",
       "      <td>5.653846</td>\n",
       "      <td>0.742659</td>\n",
       "      <td>47.982093</td>\n",
       "      <td>9.388947</td>\n",
       "    </tr>\n",
       "    <tr>\n",
       "      <th>max</th>\n",
       "      <td>23.000000</td>\n",
       "      <td>128.026667</td>\n",
       "      <td>31.277333</td>\n",
       "      <td>7.819333</td>\n",
       "      <td>1.025973</td>\n",
       "      <td>162.288470</td>\n",
       "      <td>22.746731</td>\n",
       "    </tr>\n",
       "  </tbody>\n",
       "</table>\n",
       "</div>"
      ],
      "text/plain": [
       "       avg_start_time   avg_ord_cnt   avg_day_cnt  avg_cth_day_per_week  \\\n",
       "count    74248.000000  74248.000000  74248.000000          74248.000000   \n",
       "mean        13.653958     24.646398     14.843226              3.710806   \n",
       "std          2.898635     14.535857      8.715034              2.178759   \n",
       "min          0.000000      1.000000      1.000000              0.250000   \n",
       "25%         11.250000     13.259259      6.600000              1.650000   \n",
       "50%         13.142857     23.333333     16.044740              4.011185   \n",
       "75%         15.888889     34.142857     22.615385              5.653846   \n",
       "max         23.000000    128.026667     31.277333              7.819333   \n",
       "\n",
       "        avg_cth_per  avg_avg_hour_per_week  avg_total_cth_hour  \n",
       "count  74248.000000           74248.000000        74248.000000  \n",
       "mean       0.487161              29.598043            6.939809  \n",
       "std        0.286444              23.544139            3.099556  \n",
       "min        0.030000               0.000000            0.000000  \n",
       "25%        0.216364               8.131484            4.590700  \n",
       "50%        0.527813              25.403811            7.163542  \n",
       "75%        0.742659              47.982093            9.388947  \n",
       "max        1.025973             162.288470           22.746731  "
      ]
     },
     "execution_count": 14,
     "metadata": {},
     "output_type": "execute_result"
    }
   ],
   "source": [
    "tmp21.describe()"
   ]
  },
  {
   "cell_type": "code",
   "execution_count": 28,
   "metadata": {},
   "outputs": [
    {
     "data": {
      "text/plain": [
       "Index(['wk_code', 'ymd', 'cth_date', 'finish_date', 'total_cth_time',\n",
       "       'cth_br_code', 'ord_cnt', 'cth_profit', 'wk_fee', 'wk_income',\n",
       "       'wk_income_tax', 'ord_kind', 'total_cth_hour', 'ym', 'cth_day_per_week',\n",
       "       'day_cnt', 'month_day', 'cth_per', 'start_time', 'avg_hour_per_week',\n",
       "       'week_day', 'week_cth_cnt', 'weekend_per', 'avg_start_time',\n",
       "       'avg_ord_cnt', 'avg_day_cnt', 'avg_cth_day_per_week', 'avg_cth_per',\n",
       "       'avg_avg_hour_per_week', 'avg_total_cth_hour'],\n",
       "      dtype='object')"
      ]
     },
     "execution_count": 28,
     "metadata": {},
     "output_type": "execute_result"
    }
   ],
   "source": [
    "ord_21_new.columns"
   ]
  },
  {
   "cell_type": "code",
   "execution_count": 39,
   "metadata": {},
   "outputs": [],
   "source": [
    "part1 = list(ord_21_new.loc[(ord_21_new.avg_start_time >= 19)&(ord_21_new.avg_total_cth_hour <= 4), :].wk_code.unique())\n",
    "part2 = list(ord_21_new.loc[(ord_21_new.avg_avg_hour_per_week <= 9), :].wk_code.unique())\n",
    "part3 = list(ord_21_new.loc[(ord_21_new.avg_cth_per <= 0.22), :].wk_code.unique())\n",
    "part4 = list(ord_21_new.loc[(ord_21_new.avg_cth_day_per_week < 3), :].wk_code.unique())\n",
    "part5 = list(ord_21_new.loc[(ord_21_new.avg_weekend_per > 0.9), :].wk_code.unique())"
   ]
  },
  {
   "cell_type": "code",
   "execution_count": 40,
   "metadata": {},
   "outputs": [],
   "source": [
    "blk_ls = []\n",
    "blk_ls.extend(part1)\n",
    "blk_ls.extend(part2)\n",
    "blk_ls.extend(part3)\n",
    "blk_ls.extend(part4)\n",
    "blk_ls.extend(part5)\n",
    "new_blk = list(set(blk_ls))"
   ]
  },
  {
   "cell_type": "code",
   "execution_count": 87,
   "metadata": {},
   "outputs": [],
   "source": [
    "part10 = list(ord_20_new.loc[(ord_20_new.avg_start_time >= 19)&(ord_20_new.avg_total_cth_hour <= 4), :].wk_code.unique())\n",
    "part20 = list(ord_20_new.loc[(ord_20_new.avg_avg_hour_per_week <= 9), :].wk_code.unique())\n",
    "part30 = list(ord_20_new.loc[(ord_20_new.avg_cth_per <= 0.22), :].wk_code.unique())\n",
    "part40 = list(ord_20_new.loc[(ord_20_new.avg_cth_day_per_week < 3), :].wk_code.unique())\n",
    "part50 = list(ord_20_new.loc[(ord_20_new.avg_weekend_per > 0.9), :].wk_code.unique())"
   ]
  },
  {
   "cell_type": "code",
   "execution_count": 88,
   "metadata": {},
   "outputs": [],
   "source": [
    "blk_ls0 = []\n",
    "blk_ls0.extend(part10)\n",
    "blk_ls0.extend(part20)\n",
    "blk_ls0.extend(part30)\n",
    "blk_ls0.extend(part40)\n",
    "blk_ls0.extend(part50)\n",
    "new_blk0 = list(set(blk_ls0))"
   ]
  },
  {
   "cell_type": "code",
   "execution_count": 89,
   "metadata": {},
   "outputs": [
    {
     "data": {
      "text/plain": [
       "24263"
      ]
     },
     "execution_count": 89,
     "metadata": {},
     "output_type": "execute_result"
    }
   ],
   "source": [
    "len(new_blk0)"
   ]
  },
  {
   "cell_type": "code",
   "execution_count": 41,
   "metadata": {},
   "outputs": [
    {
     "data": {
      "text/plain": [
       "33169"
      ]
     },
     "execution_count": 41,
     "metadata": {},
     "output_type": "execute_result"
    }
   ],
   "source": [
    "len(new_blk)"
   ]
  },
  {
   "cell_type": "code",
   "execution_count": 99,
   "metadata": {},
   "outputs": [
    {
     "data": {
      "text/plain": [
       "54428"
      ]
     },
     "execution_count": 99,
     "metadata": {},
     "output_type": "execute_result"
    }
   ],
   "source": [
    "len(ord_20_new.wk_code.unique())"
   ]
  },
  {
   "cell_type": "code",
   "execution_count": 43,
   "metadata": {},
   "outputs": [],
   "source": [
    "filt1 = ord_21_new.loc[~ord_21_new.wk_code.isin(new_blk), :]"
   ]
  },
  {
   "cell_type": "code",
   "execution_count": 77,
   "metadata": {},
   "outputs": [],
   "source": [
    "wk_ls = list(filt1.wk_code.unique())"
   ]
  },
  {
   "cell_type": "code",
   "execution_count": 98,
   "metadata": {},
   "outputs": [
    {
     "data": {
      "text/plain": [
       "30165"
      ]
     },
     "execution_count": 98,
     "metadata": {},
     "output_type": "execute_result"
    }
   ],
   "source": [
    "len(filt2.wk_code.unique())"
   ]
  },
  {
   "cell_type": "code",
   "execution_count": 44,
   "metadata": {},
   "outputs": [],
   "source": [
    "with open(\"new_wk_ls_dat.pkl\",\"wb\") as fw:\n",
    "    pickle.dump(filt1, fw)"
   ]
  },
  {
   "cell_type": "code",
   "execution_count": 45,
   "metadata": {},
   "outputs": [
    {
     "data": {
      "text/plain": [
       "Index(['wk_code', 'ymd', 'cth_date', 'finish_date', 'total_cth_time',\n",
       "       'cth_br_code', 'ord_cnt', 'cth_profit', 'wk_fee', 'wk_income',\n",
       "       'wk_income_tax', 'ord_kind', 'total_cth_hour', 'ym', 'cth_day_per_week',\n",
       "       'day_cnt', 'month_day', 'cth_per', 'start_time', 'avg_hour_per_week',\n",
       "       'week_day', 'week_cth_cnt', 'weekend_per', 'avg_start_time',\n",
       "       'avg_ord_cnt', 'avg_day_cnt', 'avg_cth_day_per_week', 'avg_cth_per',\n",
       "       'avg_avg_hour_per_week', 'avg_total_cth_hour', 'avg_weekend_per'],\n",
       "      dtype='object')"
      ]
     },
     "execution_count": 45,
     "metadata": {},
     "output_type": "execute_result"
    }
   ],
   "source": [
    "filt1.columns"
   ]
  },
  {
   "cell_type": "code",
   "execution_count": 78,
   "metadata": {},
   "outputs": [],
   "source": [
    "filt2 = ord_20_new.loc[ord_20_new.wk_code.isin(wk_ls), :]"
   ]
  },
  {
   "cell_type": "code",
   "execution_count": 90,
   "metadata": {},
   "outputs": [],
   "source": [
    "filt2 = ord_20_new.loc[~ord_20_new.wk_code.isin(new_blk0), :]"
   ]
  },
  {
   "cell_type": "code",
   "execution_count": 56,
   "metadata": {},
   "outputs": [],
   "source": [
    "inform1 = filt1.groupby(['ym', 'wk_code'])[['cth_profit', 'wk_fee', 'wk_income', 'wk_income_tax']].sum().reset_index().groupby(['ym'])[['cth_profit', 'wk_income']].mean().reset_index()\n",
    "inform2 = filt1[['ym', 'wk_code', 'day_cnt', 'month_day', 'cth_per']].drop_duplicates().groupby(['ym']).mean().reset_index()\n",
    "inform3 = filt1[['ymd', 'ym', 'wk_code', 'ord_cnt']].drop_duplicates().groupby(['ym'])[['ord_cnt']].mean().reset_index()\n",
    "inform4 = filt1[['ymd', 'ym', 'wk_code', 'total_cth_hour']].drop_duplicates().groupby(['ym'])[['total_cth_hour']].mean().reset_index()"
   ]
  },
  {
   "cell_type": "code",
   "execution_count": 91,
   "metadata": {},
   "outputs": [],
   "source": [
    "inform12 = filt2.groupby(['ym', 'wk_code'])[['cth_profit', 'wk_fee', 'wk_income', 'wk_income_tax']].sum().reset_index().groupby(['ym'])[['cth_profit', 'wk_income']].mean().reset_index()\n",
    "inform22 = filt2[['ym', 'wk_code', 'day_cnt', 'month_day', 'cth_per']].drop_duplicates().groupby(['ym']).mean().reset_index()\n",
    "inform32 = filt2[['ymd', 'ym', 'wk_code', 'ord_cnt']].drop_duplicates().groupby(['ym'])[['ord_cnt']].mean().reset_index()\n",
    "inform44 = filt2[['ymd', 'ym', 'wk_code', 'total_cth_hour']].drop_duplicates().groupby(['ym'])[['total_cth_hour']].mean().reset_index()"
   ]
  },
  {
   "cell_type": "code",
   "execution_count": 57,
   "metadata": {},
   "outputs": [],
   "source": [
    "finl_inform21 = pd.merge(inform1, inform2, how = 'inner', on=['ym'])\n",
    "finl_inform21 = pd.merge(finl_inform21, inform3, how = 'inner', on=['ym'])\n",
    "finl_inform21 = pd.merge(finl_inform21, inform4, how = 'inner', on=['ym'])"
   ]
  },
  {
   "cell_type": "code",
   "execution_count": 92,
   "metadata": {},
   "outputs": [],
   "source": [
    "finl_inform20 = pd.merge(inform12, inform22, how = 'inner', on=['ym'])\n",
    "finl_inform20 = pd.merge(finl_inform20, inform32, how = 'inner', on=['ym'])\n",
    "finl_inform20 = pd.merge(finl_inform20, inform44, how = 'inner', on=['ym'])"
   ]
  },
  {
   "cell_type": "code",
   "execution_count": 63,
   "metadata": {},
   "outputs": [],
   "source": [
    "finl_inform21_new = round(finl_inform21, 2)"
   ]
  },
  {
   "cell_type": "code",
   "execution_count": 93,
   "metadata": {},
   "outputs": [],
   "source": [
    "finl_inform20_new = round(finl_inform20, 2)"
   ]
  },
  {
   "cell_type": "code",
   "execution_count": 94,
   "metadata": {},
   "outputs": [],
   "source": [
    "real_finl_dat = pd.concat([finl_inform20_new, finl_inform21_new], axis = 0)"
   ]
  },
  {
   "cell_type": "code",
   "execution_count": 95,
   "metadata": {},
   "outputs": [],
   "source": [
    "real_finl_dat_new = pd.DataFrame(real_finl_dat.values, columns = ['년월', '수행수익', '라이더수익', '월별평균수행일수', '월별전체일수', '월별평균수행비율', '일평균수행건수', '일평균수행시간'])"
   ]
  },
  {
   "cell_type": "code",
   "execution_count": 97,
   "metadata": {},
   "outputs": [],
   "source": [
    "real_finl_dat_new.to_excel('2020_2021_평균라이더수익데이터_동일조건제외.xlsx')"
   ]
  },
  {
   "cell_type": "code",
   "execution_count": 96,
   "metadata": {},
   "outputs": [
    {
     "data": {
      "text/html": [
       "<div>\n",
       "<style scoped>\n",
       "    .dataframe tbody tr th:only-of-type {\n",
       "        vertical-align: middle;\n",
       "    }\n",
       "\n",
       "    .dataframe tbody tr th {\n",
       "        vertical-align: top;\n",
       "    }\n",
       "\n",
       "    .dataframe thead th {\n",
       "        text-align: right;\n",
       "    }\n",
       "</style>\n",
       "<table border=\"1\" class=\"dataframe\">\n",
       "  <thead>\n",
       "    <tr style=\"text-align: right;\">\n",
       "      <th></th>\n",
       "      <th>년월</th>\n",
       "      <th>수행수익</th>\n",
       "      <th>라이더수익</th>\n",
       "      <th>월별평균수행일수</th>\n",
       "      <th>월별전체일수</th>\n",
       "      <th>월별평균수행비율</th>\n",
       "      <th>일평균수행건수</th>\n",
       "      <th>일평균수행시간</th>\n",
       "    </tr>\n",
       "  </thead>\n",
       "  <tbody>\n",
       "    <tr>\n",
       "      <th>0</th>\n",
       "      <td>202001</td>\n",
       "      <td>2372239.99</td>\n",
       "      <td>2217854.71</td>\n",
       "      <td>20.56</td>\n",
       "      <td>31.0</td>\n",
       "      <td>0.66</td>\n",
       "      <td>32.89</td>\n",
       "      <td>8.71</td>\n",
       "    </tr>\n",
       "    <tr>\n",
       "      <th>1</th>\n",
       "      <td>202002</td>\n",
       "      <td>2354926.16</td>\n",
       "      <td>2200497.29</td>\n",
       "      <td>19.27</td>\n",
       "      <td>29.0</td>\n",
       "      <td>0.66</td>\n",
       "      <td>35.1</td>\n",
       "      <td>8.81</td>\n",
       "    </tr>\n",
       "    <tr>\n",
       "      <th>2</th>\n",
       "      <td>202003</td>\n",
       "      <td>2347170.46</td>\n",
       "      <td>2190267.8</td>\n",
       "      <td>20.51</td>\n",
       "      <td>31.0</td>\n",
       "      <td>0.66</td>\n",
       "      <td>33.01</td>\n",
       "      <td>8.66</td>\n",
       "    </tr>\n",
       "    <tr>\n",
       "      <th>3</th>\n",
       "      <td>202004</td>\n",
       "      <td>2235901.58</td>\n",
       "      <td>2087381.58</td>\n",
       "      <td>20.3</td>\n",
       "      <td>30.0</td>\n",
       "      <td>0.68</td>\n",
       "      <td>31.68</td>\n",
       "      <td>8.62</td>\n",
       "    </tr>\n",
       "    <tr>\n",
       "      <th>4</th>\n",
       "      <td>202005</td>\n",
       "      <td>2304718.75</td>\n",
       "      <td>2149712.02</td>\n",
       "      <td>20.39</td>\n",
       "      <td>31.0</td>\n",
       "      <td>0.66</td>\n",
       "      <td>32.35</td>\n",
       "      <td>8.75</td>\n",
       "    </tr>\n",
       "    <tr>\n",
       "      <th>5</th>\n",
       "      <td>202006</td>\n",
       "      <td>2241671.2</td>\n",
       "      <td>2090529.02</td>\n",
       "      <td>19.86</td>\n",
       "      <td>30.0</td>\n",
       "      <td>0.66</td>\n",
       "      <td>32.26</td>\n",
       "      <td>8.73</td>\n",
       "    </tr>\n",
       "    <tr>\n",
       "      <th>6</th>\n",
       "      <td>202007</td>\n",
       "      <td>2328227.2</td>\n",
       "      <td>2170475.38</td>\n",
       "      <td>20.41</td>\n",
       "      <td>31.0</td>\n",
       "      <td>0.66</td>\n",
       "      <td>32.35</td>\n",
       "      <td>8.75</td>\n",
       "    </tr>\n",
       "    <tr>\n",
       "      <th>7</th>\n",
       "      <td>202008</td>\n",
       "      <td>2677645.19</td>\n",
       "      <td>2496567.14</td>\n",
       "      <td>19.84</td>\n",
       "      <td>31.0</td>\n",
       "      <td>0.64</td>\n",
       "      <td>38.09</td>\n",
       "      <td>9.07</td>\n",
       "    </tr>\n",
       "    <tr>\n",
       "      <th>8</th>\n",
       "      <td>202009</td>\n",
       "      <td>2273237.04</td>\n",
       "      <td>2113643.51</td>\n",
       "      <td>19.42</td>\n",
       "      <td>30.0</td>\n",
       "      <td>0.65</td>\n",
       "      <td>32.52</td>\n",
       "      <td>8.67</td>\n",
       "    </tr>\n",
       "    <tr>\n",
       "      <th>9</th>\n",
       "      <td>202010</td>\n",
       "      <td>2127769.35</td>\n",
       "      <td>1975319.49</td>\n",
       "      <td>19.44</td>\n",
       "      <td>31.0</td>\n",
       "      <td>0.63</td>\n",
       "      <td>30.37</td>\n",
       "      <td>8.48</td>\n",
       "    </tr>\n",
       "    <tr>\n",
       "      <th>10</th>\n",
       "      <td>202011</td>\n",
       "      <td>2273297.96</td>\n",
       "      <td>2102983.87</td>\n",
       "      <td>19.48</td>\n",
       "      <td>30.0</td>\n",
       "      <td>0.65</td>\n",
       "      <td>32.39</td>\n",
       "      <td>8.62</td>\n",
       "    </tr>\n",
       "    <tr>\n",
       "      <th>11</th>\n",
       "      <td>202012</td>\n",
       "      <td>2910531.32</td>\n",
       "      <td>2690800.64</td>\n",
       "      <td>21.47</td>\n",
       "      <td>31.0</td>\n",
       "      <td>0.69</td>\n",
       "      <td>37.39</td>\n",
       "      <td>8.9</td>\n",
       "    </tr>\n",
       "    <tr>\n",
       "      <th>12</th>\n",
       "      <td>202101</td>\n",
       "      <td>2540338.7</td>\n",
       "      <td>2342885.51</td>\n",
       "      <td>20.55</td>\n",
       "      <td>31.0</td>\n",
       "      <td>0.66</td>\n",
       "      <td>33.94</td>\n",
       "      <td>8.57</td>\n",
       "    </tr>\n",
       "    <tr>\n",
       "      <th>13</th>\n",
       "      <td>202102</td>\n",
       "      <td>2244963.55</td>\n",
       "      <td>2072331.72</td>\n",
       "      <td>18.27</td>\n",
       "      <td>28.0</td>\n",
       "      <td>0.65</td>\n",
       "      <td>32.94</td>\n",
       "      <td>8.65</td>\n",
       "    </tr>\n",
       "    <tr>\n",
       "      <th>14</th>\n",
       "      <td>202103</td>\n",
       "      <td>2403810.63</td>\n",
       "      <td>2216166.08</td>\n",
       "      <td>20.31</td>\n",
       "      <td>31.0</td>\n",
       "      <td>0.66</td>\n",
       "      <td>31.9</td>\n",
       "      <td>8.57</td>\n",
       "    </tr>\n",
       "    <tr>\n",
       "      <th>15</th>\n",
       "      <td>202104</td>\n",
       "      <td>2406978.02</td>\n",
       "      <td>2221614.13</td>\n",
       "      <td>19.83</td>\n",
       "      <td>30.0</td>\n",
       "      <td>0.66</td>\n",
       "      <td>32.78</td>\n",
       "      <td>8.67</td>\n",
       "    </tr>\n",
       "    <tr>\n",
       "      <th>16</th>\n",
       "      <td>202105</td>\n",
       "      <td>2532434.94</td>\n",
       "      <td>2335023.83</td>\n",
       "      <td>20.21</td>\n",
       "      <td>31.0</td>\n",
       "      <td>0.65</td>\n",
       "      <td>33.54</td>\n",
       "      <td>8.72</td>\n",
       "    </tr>\n",
       "    <tr>\n",
       "      <th>17</th>\n",
       "      <td>202106</td>\n",
       "      <td>2335629.52</td>\n",
       "      <td>2153726.22</td>\n",
       "      <td>19.7</td>\n",
       "      <td>30.0</td>\n",
       "      <td>0.66</td>\n",
       "      <td>31.83</td>\n",
       "      <td>8.58</td>\n",
       "    </tr>\n",
       "    <tr>\n",
       "      <th>18</th>\n",
       "      <td>202107</td>\n",
       "      <td>2767706.66</td>\n",
       "      <td>2550453.14</td>\n",
       "      <td>20.43</td>\n",
       "      <td>31.0</td>\n",
       "      <td>0.66</td>\n",
       "      <td>36.13</td>\n",
       "      <td>8.82</td>\n",
       "    </tr>\n",
       "    <tr>\n",
       "      <th>19</th>\n",
       "      <td>202108</td>\n",
       "      <td>2726214.71</td>\n",
       "      <td>2510088.88</td>\n",
       "      <td>19.91</td>\n",
       "      <td>31.0</td>\n",
       "      <td>0.64</td>\n",
       "      <td>36.02</td>\n",
       "      <td>8.77</td>\n",
       "    </tr>\n",
       "    <tr>\n",
       "      <th>20</th>\n",
       "      <td>202109</td>\n",
       "      <td>2495881.61</td>\n",
       "      <td>2298693.01</td>\n",
       "      <td>19.11</td>\n",
       "      <td>30.0</td>\n",
       "      <td>0.64</td>\n",
       "      <td>33.76</td>\n",
       "      <td>8.6</td>\n",
       "    </tr>\n",
       "    <tr>\n",
       "      <th>21</th>\n",
       "      <td>202110</td>\n",
       "      <td>2505115.04</td>\n",
       "      <td>2299832.19</td>\n",
       "      <td>19.63</td>\n",
       "      <td>31.0</td>\n",
       "      <td>0.63</td>\n",
       "      <td>33.27</td>\n",
       "      <td>8.51</td>\n",
       "    </tr>\n",
       "    <tr>\n",
       "      <th>22</th>\n",
       "      <td>202111</td>\n",
       "      <td>2421849.33</td>\n",
       "      <td>2221278.54</td>\n",
       "      <td>19.33</td>\n",
       "      <td>30.0</td>\n",
       "      <td>0.64</td>\n",
       "      <td>32.1</td>\n",
       "      <td>8.39</td>\n",
       "    </tr>\n",
       "    <tr>\n",
       "      <th>23</th>\n",
       "      <td>202112</td>\n",
       "      <td>2824158.4</td>\n",
       "      <td>2597347.71</td>\n",
       "      <td>20.37</td>\n",
       "      <td>31.0</td>\n",
       "      <td>0.66</td>\n",
       "      <td>34.89</td>\n",
       "      <td>8.49</td>\n",
       "    </tr>\n",
       "  </tbody>\n",
       "</table>\n",
       "</div>"
      ],
      "text/plain": [
       "        년월        수행수익       라이더수익 월별평균수행일수 월별전체일수 월별평균수행비율 일평균수행건수 일평균수행시간\n",
       "0   202001  2372239.99  2217854.71    20.56   31.0     0.66   32.89    8.71\n",
       "1   202002  2354926.16  2200497.29    19.27   29.0     0.66    35.1    8.81\n",
       "2   202003  2347170.46   2190267.8    20.51   31.0     0.66   33.01    8.66\n",
       "3   202004  2235901.58  2087381.58     20.3   30.0     0.68   31.68    8.62\n",
       "4   202005  2304718.75  2149712.02    20.39   31.0     0.66   32.35    8.75\n",
       "5   202006   2241671.2  2090529.02    19.86   30.0     0.66   32.26    8.73\n",
       "6   202007   2328227.2  2170475.38    20.41   31.0     0.66   32.35    8.75\n",
       "7   202008  2677645.19  2496567.14    19.84   31.0     0.64   38.09    9.07\n",
       "8   202009  2273237.04  2113643.51    19.42   30.0     0.65   32.52    8.67\n",
       "9   202010  2127769.35  1975319.49    19.44   31.0     0.63   30.37    8.48\n",
       "10  202011  2273297.96  2102983.87    19.48   30.0     0.65   32.39    8.62\n",
       "11  202012  2910531.32  2690800.64    21.47   31.0     0.69   37.39     8.9\n",
       "12  202101   2540338.7  2342885.51    20.55   31.0     0.66   33.94    8.57\n",
       "13  202102  2244963.55  2072331.72    18.27   28.0     0.65   32.94    8.65\n",
       "14  202103  2403810.63  2216166.08    20.31   31.0     0.66    31.9    8.57\n",
       "15  202104  2406978.02  2221614.13    19.83   30.0     0.66   32.78    8.67\n",
       "16  202105  2532434.94  2335023.83    20.21   31.0     0.65   33.54    8.72\n",
       "17  202106  2335629.52  2153726.22     19.7   30.0     0.66   31.83    8.58\n",
       "18  202107  2767706.66  2550453.14    20.43   31.0     0.66   36.13    8.82\n",
       "19  202108  2726214.71  2510088.88    19.91   31.0     0.64   36.02    8.77\n",
       "20  202109  2495881.61  2298693.01    19.11   30.0     0.64   33.76     8.6\n",
       "21  202110  2505115.04  2299832.19    19.63   31.0     0.63   33.27    8.51\n",
       "22  202111  2421849.33  2221278.54    19.33   30.0     0.64    32.1    8.39\n",
       "23  202112   2824158.4  2597347.71    20.37   31.0     0.66   34.89    8.49"
      ]
     },
     "execution_count": 96,
     "metadata": {},
     "output_type": "execute_result"
    }
   ],
   "source": [
    "real_finl_dat_new"
   ]
  },
  {
   "cell_type": "code",
   "execution_count": null,
   "metadata": {},
   "outputs": [],
   "source": []
  },
  {
   "cell_type": "code",
   "execution_count": null,
   "metadata": {},
   "outputs": [],
   "source": []
  },
  {
   "cell_type": "code",
   "execution_count": 107,
   "metadata": {},
   "outputs": [],
   "source": [
    "pf_20['ym'] = pf_20.ymd.apply(lambda x : x[0:6])\n",
    "pf_21['ym'] = pf_21.ymd.apply(lambda x : x[0:6])"
   ]
  },
  {
   "cell_type": "code",
   "execution_count": 111,
   "metadata": {},
   "outputs": [],
   "source": [
    "pf_20 = pf_20.reset_index(drop = True)\n",
    "pf_21 = pf_21.reset_index(drop = True)"
   ]
  },
  {
   "cell_type": "code",
   "execution_count": 112,
   "metadata": {},
   "outputs": [],
   "source": [
    "pf_20 = pf_20.loc[pf_20.ym != 202101, :]"
   ]
  },
  {
   "cell_type": "code",
   "execution_count": 113,
   "metadata": {},
   "outputs": [],
   "source": [
    "pf_21 = pf_21.loc[pf_21.ym != 202201, :]"
   ]
  },
  {
   "cell_type": "code",
   "execution_count": 119,
   "metadata": {},
   "outputs": [],
   "source": [
    "yr20_profit = pf_20.groupby(['ym', 'cth_wk_code'])[['wk_income']].sum().reset_index().groupby(['ym'])[['wk_income']].mean().reset_index()"
   ]
  },
  {
   "cell_type": "code",
   "execution_count": 123,
   "metadata": {},
   "outputs": [],
   "source": [
    "yr20_profit['wk_income'] = yr20_profit['wk_income'].astype('int')"
   ]
  },
  {
   "cell_type": "code",
   "execution_count": 121,
   "metadata": {},
   "outputs": [],
   "source": [
    "yr21_profit = pf_21.groupby(['ym', 'cth_wk_code'])[['wk_income']].sum().reset_index().groupby(['ym'])[['wk_income']].mean().reset_index()"
   ]
  },
  {
   "cell_type": "code",
   "execution_count": 124,
   "metadata": {},
   "outputs": [],
   "source": [
    "yr21_profit['wk_income'] = yr21_profit['wk_income'].astype('int')"
   ]
  },
  {
   "cell_type": "code",
   "execution_count": 126,
   "metadata": {},
   "outputs": [],
   "source": [
    "yr20_profit.to_excel('라이더수익_20년도.xlsx')\n",
    "yr21_profit.to_excel('라이더수익_21년도.xlsx')"
   ]
  },
  {
   "cell_type": "code",
   "execution_count": null,
   "metadata": {},
   "outputs": [],
   "source": []
  }
 ],
 "metadata": {
  "interpreter": {
   "hash": "17858ffab7af79bc53f8f43bf4d197f22e6513294b6a09ebfa3f696ed14ed76f"
  },
  "kernelspec": {
   "display_name": "Python 3.8.12 ('hub_class')",
   "language": "python",
   "name": "python3"
  },
  "language_info": {
   "codemirror_mode": {
    "name": "ipython",
    "version": 3
   },
   "file_extension": ".py",
   "mimetype": "text/x-python",
   "name": "python",
   "nbconvert_exporter": "python",
   "pygments_lexer": "ipython3",
   "version": "3.8.12"
  },
  "orig_nbformat": 4
 },
 "nbformat": 4,
 "nbformat_minor": 2
}
